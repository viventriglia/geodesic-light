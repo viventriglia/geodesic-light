{
 "cells": [
  {
   "cell_type": "code",
   "execution_count": null,
   "id": "e74f29ed-4ac6-4d3d-b31e-ef2531852de6",
   "metadata": {},
   "outputs": [],
   "source": [
    "import numpy as np\n",
    "\n",
    "from geodesic_light.core.rays_parallel import raytracing_parallel\n",
    "from geodesic_light.viz.plot import plot_ray_tracing, save_plot"
   ]
  },
  {
   "cell_type": "markdown",
   "id": "1994850d-5de2-42a6-a0d3-99e29dd80b92",
   "metadata": {},
   "source": [
    "## Initial conditions"
   ]
  },
  {
   "cell_type": "code",
   "execution_count": null,
   "id": "d94577bb-ff69-41c0-9e26-e32f357edf25",
   "metadata": {},
   "outputs": [],
   "source": [
    "M = 1\n",
    "a = 0.99\n",
    "n = 30\n",
    "\n",
    "alpha_core = np.linspace(-7.0, 7.0, int(n * 300))\n",
    "alpha_wide = np.linspace(-10, 10, int(n * 1_000))\n",
    "alpha = np.concatenate((alpha_wide, alpha_core))\n",
    "\n",
    "# beta_core = np.linspace(-1, 1, 3)\n",
    "# beta_wide = np.array([-5, 5])\n",
    "# beta = np.concatenate((beta_core, beta_wide))\n",
    "beta = [0]\n",
    "\n",
    "r0 = 10\n",
    "theta0 = 90 * np.pi/180\n",
    "phi0 = 0 * np.pi/180"
   ]
  },
  {
   "cell_type": "markdown",
   "id": "44b6145e-e5ec-4f2f-84a1-3450d878ac3e",
   "metadata": {},
   "source": [
    "## Raytracing"
   ]
  },
  {
   "cell_type": "code",
   "execution_count": null,
   "id": "350e1842-bf96-4c6d-9cc9-d03f4131196c",
   "metadata": {},
   "outputs": [],
   "source": [
    "rays = raytracing_parallel(\n",
    "    M=M,\n",
    "    a=a,\n",
    "    r0=r0,\n",
    "    theta0=theta0,\n",
    "    phi0=phi0,\n",
    "    alphas=alpha,\n",
    "    betas=beta,\n",
    ")"
   ]
  },
  {
   "cell_type": "markdown",
   "id": "0747828f-f62b-4613-a63e-065fde4a3f5a",
   "metadata": {},
   "source": [
    "## Visuals"
   ]
  },
  {
   "cell_type": "code",
   "execution_count": null,
   "id": "09bb6605-f632-443f-a4ac-67d4d5adb96c",
   "metadata": {},
   "outputs": [],
   "source": [
    "fig = plot_ray_tracing(\n",
    "    rays=rays,\n",
    "    M=M,\n",
    "    a=a,\n",
    "    xlim=(-7, 7),\n",
    "    ylim=(-7, 7),\n",
    "    lw=0.01,\n",
    ")"
   ]
  },
  {
   "cell_type": "code",
   "execution_count": null,
   "id": "efa7ef47-1efe-45b7-90ca-cde4081c9c75",
   "metadata": {},
   "outputs": [],
   "source": [
    "save_plot(\n",
    "    fig,\n",
    "    filename=f'../images/spin{a}_photons{len(rays)}.png',\n",
    "    dpi=600,\n",
    ")"
   ]
  }
 ],
 "metadata": {
  "kernelspec": {
   "display_name": "Python 3 (ipykernel)",
   "language": "python",
   "name": "python3"
  },
  "language_info": {
   "codemirror_mode": {
    "name": "ipython",
    "version": 3
   },
   "file_extension": ".py",
   "mimetype": "text/x-python",
   "name": "python",
   "nbconvert_exporter": "python",
   "pygments_lexer": "ipython3",
   "version": "3.13.4"
  }
 },
 "nbformat": 4,
 "nbformat_minor": 5
}
