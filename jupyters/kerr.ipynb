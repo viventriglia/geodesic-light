{
 "cells": [
  {
   "cell_type": "code",
   "execution_count": null,
   "id": "e74f29ed-4ac6-4d3d-b31e-ef2531852de6",
   "metadata": {},
   "outputs": [],
   "source": [
    "import numpy as np\n",
    "\n",
    "from geodesic_light.core.rays import multiray\n",
    "from geodesic_light.viz.plot import plot_ray_tracing, save_plot"
   ]
  },
  {
   "cell_type": "code",
   "execution_count": null,
   "id": "d94577bb-ff69-41c0-9e26-e32f357edf25",
   "metadata": {},
   "outputs": [],
   "source": [
    "M = 1\n",
    "a = 0.99\n",
    "n = 30\n",
    "\n",
    "alpha_core = np.linspace(-7.0, 7.0, int(n * 300))\n",
    "alpha_wide = np.linspace(-10, 10, int(n * 1_000))\n",
    "alpha = np.concatenate((alpha_wide, alpha_core))\n",
    "\n",
    "# beta_core = np.linspace(-2, 2, 5)\n",
    "# beta_wide = np.array([-5, -10, 5, 10])\n",
    "# beta = np.concatenate((beta_core, beta_wide))\n",
    "beta = [0]\n",
    "\n",
    "r0 = 10\n",
    "theta0 = 90 * np.pi/180\n",
    "phi0 = 0 * np.pi/180\n",
    "\n",
    "t_start = 0\n",
    "t_stop = 90\n",
    "\n",
    "rays = multiray(M, a, r0, theta0, phi0, alpha, beta, t_start, t_stop)"
   ]
  },
  {
   "cell_type": "code",
   "execution_count": null,
   "id": "09bb6605-f632-443f-a4ac-67d4d5adb96c",
   "metadata": {},
   "outputs": [],
   "source": [
    "fig = plot_ray_tracing(rays, M, a, xlim=(-7, 7), ylim=(-7, 7), lw=0.01)"
   ]
  },
  {
   "cell_type": "code",
   "execution_count": null,
   "id": "efa7ef47-1efe-45b7-90ca-cde4081c9c75",
   "metadata": {},
   "outputs": [],
   "source": [
    "save_plot(fig, filename=f'../images/spin{a}_photons{len(rays)}.png', dpi=600)"
   ]
  }
 ],
 "metadata": {
  "kernelspec": {
   "display_name": "Python 3 (ipykernel)",
   "language": "python",
   "name": "python3"
  },
  "language_info": {
   "codemirror_mode": {
    "name": "ipython",
    "version": 3
   },
   "file_extension": ".py",
   "mimetype": "text/x-python",
   "name": "python",
   "nbconvert_exporter": "python",
   "pygments_lexer": "ipython3",
   "version": "3.13.4"
  }
 },
 "nbformat": 4,
 "nbformat_minor": 5
}
